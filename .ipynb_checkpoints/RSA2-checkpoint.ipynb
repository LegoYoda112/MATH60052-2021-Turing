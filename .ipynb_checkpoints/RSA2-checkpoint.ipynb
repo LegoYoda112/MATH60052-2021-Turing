{
 "cells": [
  {
   "cell_type": "code",
   "execution_count": 180,
   "metadata": {},
   "outputs": [],
   "source": [
    "from math import gcd, sqrt\n",
    "from sympy import mod_inverse\n",
    "\n",
    "import ipywidgets as widgets"
   ]
  },
  {
   "cell_type": "code",
   "execution_count": 197,
   "metadata": {},
   "outputs": [
    {
     "data": {
      "application/vnd.jupyter.widget-view+json": {
       "model_id": "0f459e4e45fc460b8ee3be2192f4d331",
       "version_major": 2,
       "version_minor": 0
      },
      "text/plain": [
       "IntText(value=0, description='Prime #1:')"
      ]
     },
     "metadata": {},
     "output_type": "display_data"
    },
    {
     "data": {
      "application/vnd.jupyter.widget-view+json": {
       "model_id": "17197bb930ea45e2b4937447dadd2ad2",
       "version_major": 2,
       "version_minor": 0
      },
      "text/plain": [
       "IntText(value=0, description='Prime #2:')"
      ]
     },
     "metadata": {},
     "output_type": "display_data"
    }
   ],
   "source": [
    "p1_input = widgets.IntText(description='Prime #1:')\n",
    "display(p1_input)\n",
    "p2_input = widgets.IntText(description='Prime #2:')\n",
    "display(p2_input)"
   ]
  },
  {
   "cell_type": "code",
   "execution_count": 199,
   "metadata": {},
   "outputs": [
    {
     "name": "stdout",
     "output_type": "stream",
     "text": [
      "1715059\n"
     ]
    }
   ],
   "source": [
    "print(p1_input.value)"
   ]
  },
  {
   "cell_type": "code",
   "execution_count": 255,
   "metadata": {},
   "outputs": [
    {
     "name": "stdout",
     "output_type": "stream",
     "text": [
      "N = 38407\n",
      "phi(N) = 38016\n",
      "done\n",
      "e = 5\n",
      "d = 15206\n"
     ]
    }
   ],
   "source": [
    "# Step 1: pick two primes\n",
    "# Primes\n",
    "p1 = p1_input.value\n",
    "p2 = p2_input.value\n",
    "\n",
    "# Step 2: calculate the modulus\n",
    "# Modulus\n",
    "N = p1 * p2\n",
    "print(\"N =\", N)\n",
    "\n",
    "# Step 3: calculate the phi function\n",
    "# Phi function\n",
    "phiN = (p1 - 1) * (p2 - 1)\n",
    "print(\"phi(N) =\", phiN)\n",
    "\n",
    "\n",
    "# Step 4: calculate e - the encryption exponent\n",
    "# e must be between 1 and phi(N)\n",
    "# e must be coprime with N and phi(N)\n",
    "\n",
    "# Run through 2 and phi(N) to find a coprime\n",
    "# TODO: Optimize\n",
    "e = 0\n",
    "for candidate in range(2, phiN + 1):\n",
    "    if(gcd(candidate, N) == 1 and gcd(candidate, phiN) == 1):\n",
    "        e = candidate\n",
    "        print(\"done\")\n",
    "        break\n",
    "print(\"e =\", e)\n",
    "\n",
    "# Step 5: choose d - the decription exponent\n",
    "# de (mod phi(N)) = 1\n",
    "d = int((2 * phiN + 1) / e)\n",
    "        \n",
    "print(\"d =\", d)"
   ]
  },
  {
   "cell_type": "code",
   "execution_count": 256,
   "metadata": {},
   "outputs": [
    {
     "name": "stdout",
     "output_type": "stream",
     "text": [
      "Public key: (5, 38407)\n",
      "Private key: (15206, 38407)\n"
     ]
    }
   ],
   "source": [
    "public_key = (e, N)\n",
    "print(\"Public key:\", public_key)\n",
    "private_key = (d, N)\n",
    "print(\"Private key:\", private_key)"
   ]
  },
  {
   "cell_type": "code",
   "execution_count": 62,
   "metadata": {},
   "outputs": [
    {
     "data": {
      "text/plain": [
       "92"
      ]
     },
     "execution_count": 62,
     "metadata": {},
     "output_type": "execute_result"
    }
   ],
   "source": [
    "ord('z') - 30"
   ]
  },
  {
   "cell_type": "code",
   "execution_count": 257,
   "metadata": {},
   "outputs": [],
   "source": [
    "def encrypt(message, public_key):\n",
    "    encrypted_message = pow(message, public_key[0], public_key[1])\n",
    "    return encrypted_message\n",
    "\n",
    "def decrypt(encrypted_message, private_key):\n",
    "    decrypted_message = pow(encrypted_message, private_key[0], private_key[1])\n",
    "    return decrypted_message\n",
    "\n",
    "def string_to_int(message):\n",
    "    number = \"\"\n",
    "    for char in message:\n",
    "        ordinal = ord(char) - 30\n",
    "        if ordinal < 10:\n",
    "            ordinal = \"0\" + str(ordinal)\n",
    "        else:\n",
    "            ordinal = str(ordinal)\n",
    "        number += ordinal\n",
    "        \n",
    "    integer = int(number)\n",
    "    return integer\n",
    "    \n",
    "def int_to_string(integer):\n",
    "    str_int = str(integer)\n",
    "    string = \"\"\n",
    "    for i in range(0, int(len(str_int) / 2)):\n",
    "        char_code = int(str_int[2 * i] + str_int[2 * i+1])\n",
    "        string += chr(char_code + 30)\n",
    "    return string"
   ]
  },
  {
   "cell_type": "code",
   "execution_count": 265,
   "metadata": {},
   "outputs": [
    {
     "data": {
      "application/vnd.jupyter.widget-view+json": {
       "model_id": "09a3a7166cf9492eb040491cb77c704d",
       "version_major": 2,
       "version_minor": 0
      },
      "text/plain": [
       "Text(value='', description='Message')"
      ]
     },
     "metadata": {},
     "output_type": "display_data"
    },
    {
     "name": "stdout",
     "output_type": "stream",
     "text": [
      "Not enough digits in the modulus to encrypt message\n"
     ]
    }
   ],
   "source": [
    "message_input = widgets.Text(description='Message')\n",
    "display(message_input)\n",
    "\n",
    "def callback(change):\n",
    "    message = change[\"new\"]\n",
    "    if(sqrt(len(str(N))) + 1 < len(str(message))):\n",
    "        print(\"Not enough digits in the modulus to encrypt message\")\n",
    "\n",
    "message_input.observe(callback, names = \"value\")"
   ]
  },
  {
   "cell_type": "code",
   "execution_count": 272,
   "metadata": {},
   "outputs": [
    {
     "name": "stdout",
     "output_type": "stream",
     "text": [
      "Original: 19\n",
      "Encrypted: 18051\n",
      "Decrypted: 6809\n"
     ]
    }
   ],
   "source": [
    "message = string_to_int(message_input.value)\n",
    "\n",
    "print(\"Original:\", message)\n",
    "encrypted = encrypt(message, public_key)\n",
    "print(\"Encrypted:\", encrypted)\n",
    "decrypted = decrypt(encrypted, private_key)\n",
    "print(\"Decrypted:\", decrypted)"
   ]
  },
  {
   "cell_type": "code",
   "execution_count": null,
   "metadata": {},
   "outputs": [],
   "source": []
  },
  {
   "cell_type": "code",
   "execution_count": null,
   "metadata": {},
   "outputs": [],
   "source": []
  }
 ],
 "metadata": {
  "kernelspec": {
   "display_name": "Python 3",
   "language": "python",
   "name": "python3"
  },
  "language_info": {
   "codemirror_mode": {
    "name": "ipython",
    "version": 3
   },
   "file_extension": ".py",
   "mimetype": "text/x-python",
   "name": "python",
   "nbconvert_exporter": "python",
   "pygments_lexer": "ipython3",
   "version": "3.8.2"
  }
 },
 "nbformat": 4,
 "nbformat_minor": 4
}

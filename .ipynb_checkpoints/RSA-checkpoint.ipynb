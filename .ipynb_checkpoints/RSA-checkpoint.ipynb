{
 "cells": [
  {
   "cell_type": "markdown",
   "metadata": {},
   "source": [
    "# RSA Encryption and Shor's Algorithm"
   ]
  },
  {
   "cell_type": "markdown",
   "metadata": {},
   "source": [
    "## Imports"
   ]
  },
  {
   "cell_type": "code",
   "execution_count": 1216,
   "metadata": {},
   "outputs": [],
   "source": [
    "from math import gcd, sqrt\n",
    "import random\n",
    "import time"
   ]
  },
  {
   "cell_type": "markdown",
   "metadata": {},
   "source": [
    "# Setting up RSA"
   ]
  },
  {
   "cell_type": "markdown",
   "metadata": {},
   "source": [
    "## Step 1: Pick two primes\n",
    "Generate some using https://bigprimes.org/\n",
    "\n",
    "The amount of characters you can encrypt is proportoinal to the size of the primes, as well as the security of the encryption. If you want to try brute force decryption, something around 5-8 digits should be fine."
   ]
  },
  {
   "cell_type": "code",
   "execution_count": 1217,
   "metadata": {},
   "outputs": [],
   "source": [
    "p1 = 563\n",
    "p2 = 547"
   ]
  },
  {
   "cell_type": "markdown",
   "metadata": {},
   "source": [
    "## Step 2: Calculate modulus\n",
    "The modulus will be used to \"wrap around\" messages after raising to the encryption exponent"
   ]
  },
  {
   "cell_type": "code",
   "execution_count": 1218,
   "metadata": {},
   "outputs": [
    {
     "name": "stdout",
     "output_type": "stream",
     "text": [
      "N = 307961\n"
     ]
    }
   ],
   "source": [
    "N = p1 * p2\n",
    "print(\"N =\", N)"
   ]
  },
  {
   "cell_type": "markdown",
   "metadata": {},
   "source": [
    "## Step 3: Calculate the phi function\n",
    "Also known as \"Euler's totient function\": https://en.wikipedia.org/wiki/Euler's_totient_function\n",
    "\n",
    "This function counts the positive integers up to a given integer that are relativly prime to that number.\n",
    "\n",
    "Eulers product formula states that \n",
    "$$\\phi(n) = p_1"
   ]
  },
  {
   "cell_type": "code",
   "execution_count": 1219,
   "metadata": {},
   "outputs": [
    {
     "name": "stdout",
     "output_type": "stream",
     "text": [
      "phi(N) = 306852\n"
     ]
    }
   ],
   "source": [
    "# Step 3: calculate the phi function\n",
    "# Phi function\n",
    "phiN = (p1 - 1) * (p2 - 1)\n",
    "print(\"phi(N) =\", phiN)"
   ]
  },
  {
   "cell_type": "markdown",
   "metadata": {},
   "source": [
    "## Step 4: Calculate the encryption exponent\n",
    "Requirements:\n",
    "- e must between 1 and phi(N)\n",
    "- e must be coprime with N and phi(N)\n",
    "\n",
    "In modern encryption, 65537 is used as standard. Small exponents, such as $e=3$, will result in $m^3$ being less than the modulus, and therefore trivial to crack (take the 3rd root)."
   ]
  },
  {
   "cell_type": "code",
   "execution_count": 1220,
   "metadata": {},
   "outputs": [],
   "source": [
    "# Manually find a valid candidate\n",
    "# e = 0\n",
    "# for candidate in range(2, phiN + 1):\n",
    "#     if(gcd(candidate, phiN) == 1):\n",
    "#         e = candidate\n",
    "#         print(\"done\")\n",
    "#         break\n",
    "\n",
    "# Or use a standard prime\n",
    "e = 65537"
   ]
  },
  {
   "cell_type": "markdown",
   "metadata": {},
   "source": [
    "## Step 5: Calculate the decryption exponent\n",
    "Find $d$ such that\n",
    "$$(m^{e})^d = m^{ed} \\equiv m \\quad (\\text{mod } N)$$\n",
    "\n",
    "This results in d \"undoing\" the shift performed by raising x to the e.\n",
    "\n",
    "\n",
    "This can be calculated using Euler's theorem:\n",
    "\n",
    "$$a^{\\phi(n)} \\equiv 1 (\\text{mod } n)$$\n",
    "\n",
    "If we can find a $d$ such that $ed \\equiv 1 (\\text{mod } \\phi(n)) \\Rightarrow ed = 1 + h\\phi(n)$:\n",
    "\n",
    "$$m^{ed} = m^{1 + h \\phi(n)} = m(m^{\\phi(n)})^h \\equiv m(1)^h \\equiv m (\\text{mod } n)$$"
   ]
  },
  {
   "cell_type": "code",
   "execution_count": 1229,
   "metadata": {},
   "outputs": [
    {
     "name": "stdout",
     "output_type": "stream",
     "text": [
      "d = 43937\n",
      "Public key: (65537, 307961)\n",
      "Private key: (43937, 307961)\n"
     ]
    }
   ],
   "source": [
    "# Step 5: choose d - the decription exponent\n",
    "\n",
    "d = mod_inverse(e, phiN)\n",
    "        \n",
    "print(\"d =\", d)\n",
    "\n",
    "public_key = (e, N)\n",
    "print(\"Public key:\", public_key)\n",
    "private_key = (d, N)\n",
    "print(\"Private key:\", private_key)"
   ]
  },
  {
   "cell_type": "code",
   "execution_count": 1230,
   "metadata": {},
   "outputs": [],
   "source": [
    "def gcdExtended(a, b):\n",
    "    \n",
    "    if a == 0 :\n",
    "        return b, 0, 1\n",
    "    \n",
    "    gcd, x1, y1 = gcdExtended(b%a, a)\n",
    "    \n",
    "    x = y1 - (b//a) * x1\n",
    "    y = x1\n",
    "    \n",
    "    return gcd, x, y\n",
    "\n",
    "def mod_inverse(a, mod):\n",
    "    factor, x, y = gcdExtended(a, mod)\n",
    "    if(x < 0):\n",
    "        return mod + x\n",
    "    else:\n",
    "        return x"
   ]
  },
  {
   "cell_type": "markdown",
   "metadata": {},
   "source": [
    "# RSA Encryption and Decryption\n",
    "To encrypt a message, we convert our string to an integer $\\text{message}$ and raising it to the power of $e$ mod $N$:\n",
    "\n",
    "$$\\text{encrypted} = \\text{message} ^ e \\quad (mod N)$$\n",
    "\n",
    "To decrypt a message, we raise the encrypted message to our decryption exponent and it will \"wrap around\" back to our original message:\n",
    "\n",
    "$$\\text{decrypted} = \\text{encrypted} ^ d \\quad (mod N)$$"
   ]
  },
  {
   "cell_type": "code",
   "execution_count": 1231,
   "metadata": {},
   "outputs": [],
   "source": [
    "# Helper functions\n",
    "\n",
    "def encrypt(message, public_key):\n",
    "    encrypted_message = pow(message, public_key[0], public_key[1])\n",
    "    return encrypted_message\n",
    "\n",
    "def decrypt(encrypted_message, private_key):\n",
    "    decrypted_message = pow(encrypted_message, private_key[0], private_key[1])\n",
    "    return decrypted_message\n",
    "\n",
    "def string_to_int(message):\n",
    "    number = \"\"\n",
    "    for char in message:\n",
    "        ordinal = ord(char) - 30\n",
    "        if ordinal < 10:\n",
    "            ordinal = \"0\" + str(ordinal)\n",
    "        else:\n",
    "            ordinal = str(ordinal)\n",
    "        number += ordinal\n",
    "        \n",
    "    integer = int(number)\n",
    "    return integer\n",
    "    \n",
    "def int_to_string(integer):\n",
    "    str_int = str(integer)\n",
    "    string = \"\"\n",
    "    for i in range(0, int(len(str_int) / 2)):\n",
    "        char_code = int(str_int[2 * i] + str_int[2 * i+1])\n",
    "        string += chr(char_code + 30)\n",
    "    return string"
   ]
  },
  {
   "cell_type": "markdown",
   "metadata": {},
   "source": [
    "## Perform encryption and decryption"
   ]
  },
  {
   "cell_type": "code",
   "execution_count": 1245,
   "metadata": {},
   "outputs": [
    {
     "name": "stdout",
     "output_type": "stream",
     "text": [
      "Original string: Hi\n",
      "Original integer: 4275\n",
      "\n",
      "Encrypted integer: 271579\n",
      "\n",
      "Decrypted integer: 4275\n",
      "Decrypted string: Hi\n"
     ]
    }
   ],
   "source": [
    "message_string = \"Hi\"\n",
    "message = string_to_int(message_string)\n",
    "\n",
    "print(\"Original string:\", message_string)\n",
    "print(\"Original integer:\", message)\n",
    "\n",
    "print()\n",
    "encrypted = encrypt(message, public_key)\n",
    "print(\"Encrypted integer:\", encrypted)\n",
    "\n",
    "print()\n",
    "decrypted = decrypt(encrypted, private_key)\n",
    "print(\"Decrypted integer:\", decrypted)\n",
    "\n",
    "print(\"Decrypted string:\", int_to_string(decrypted))"
   ]
  },
  {
   "cell_type": "markdown",
   "metadata": {},
   "source": [
    "# Brute force decryption\n",
    "Assuming you have been given the public key, the easiest way to calculate the decryption exponent is to find the totient of n $(p1-1)(p2-1)$, and the easiest way to do that is to find the two prime factors that make it up (p1 and p2). These can be found by brute force factoring N.\n",
    "\n",
    "Be careful running this with large (8+ digits) primes, as it will quickly take unreasonable times to do (this is why RSA is so secure)"
   ]
  },
  {
   "cell_type": "code",
   "execution_count": 1246,
   "metadata": {},
   "outputs": [
    {
     "name": "stdout",
     "output_type": "stream",
     "text": [
      "Found factor\n",
      "Brute force factoring took 0.0002 seconds\n",
      "Prime 1: 547\n",
      "Prime 2: 563\n",
      "\n",
      "Brute force decrypted message Hi\n",
      "307961\n"
     ]
    }
   ],
   "source": [
    "start = time.perf_counter()\n",
    "\n",
    "# brute force factoring, test all odd numbers\n",
    "p1 = 0\n",
    "for i in range(1, N//2):\n",
    "    test_factor = (2 * i + 1)\n",
    "    if(N % test_factor == 0):\n",
    "        print(\"Found factor\")\n",
    "        p1 = test_factor\n",
    "        break\n",
    "end = time.perf_counter()\n",
    "\n",
    "print(\"Brute force factoring took\", round(end - start, 4), \"seconds\")\n",
    "\n",
    "# Calculate second prime by dividing modulus\n",
    "p2 = N // p1\n",
    "\n",
    "print(\"Prime 1:\", p1)\n",
    "print(\"Prime 2:\", p2)\n",
    "\n",
    "# Recalculate phiN and decryption exponent\n",
    "phiN = (p1 - 1) * (p2 - 1)\n",
    "d = mod_inverse(e, phiN)\n",
    "\n",
    "print()\n",
    "print(\"Brute force decrypted message\", int_to_string(decrypt(encrypted, (d, N))))\n",
    "\n",
    "print(N)"
   ]
  },
  {
   "cell_type": "markdown",
   "metadata": {},
   "source": [
    "# Shor's Algorithm\n",
    "Method adapted from: https://arxiv.org/pdf/quant-ph/0205095.pdf"
   ]
  },
  {
   "cell_type": "markdown",
   "metadata": {},
   "source": [
    "## Step 1: Pick a random number\n",
    "Choose a random integer $1 < a < N-1$ and check to see if by random chance we have found a factor"
   ]
  },
  {
   "cell_type": "code",
   "execution_count": 1262,
   "metadata": {},
   "outputs": [
    {
     "name": "stdout",
     "output_type": "stream",
     "text": [
      "a = 8485\n",
      "a is not a factor of N\n"
     ]
    }
   ],
   "source": [
    "a = random.randrange(1, N-1)\n",
    "print(\"a =\", a)\n",
    "\n",
    "if(gcd(a, N) > 1):\n",
    "    print(\"Wow, you got very lucky and found a factor of N\")\n",
    "else:\n",
    "    print(\"a is not a factor of N\")"
   ]
  },
  {
   "cell_type": "markdown",
   "metadata": {},
   "source": [
    "## Step 2: Find the order of $a \\space mod \\space N$\n",
    "To find the order of $a \\space mod \\space N$, we must find the period of $a^i \\space mod \\space N$. This is equivelent to finding the smallest non-zero integer that satisfies:\n",
    "$$a^r \\space mod \\space N = 1$$\n",
    "\n",
    "This is the most time consuming portion of the classical algorithm, as it has to be done by brute force. Once this step can be done by a quantum computer, previously unfactorable numbers will become factorable in a fraction of the time."
   ]
  },
  {
   "cell_type": "code",
   "execution_count": 1263,
   "metadata": {},
   "outputs": [
    {
     "name": "stdout",
     "output_type": "stream",
     "text": [
      "r = 51142\n"
     ]
    }
   ],
   "source": [
    "r = 0\n",
    "# Limit set to make sure algorithm doesn't \"run away\" on large numbers\n",
    "for i in range(1, 1000000):\n",
    "    val = pow(a, i, N)\n",
    "    vals.append(val)\n",
    "    \n",
    "    if(val == 1):\n",
    "        v_1 = i\n",
    "        r = i\n",
    "        break\n",
    "\n",
    "if(r == 0):\n",
    "    print(\"No repeats found in range, try increasing, using smaller primes, or re-randomizing a\")\n",
    "else:\n",
    "    print(\"r =\", r)"
   ]
  },
  {
   "cell_type": "markdown",
   "metadata": {},
   "source": [
    "## Step 3: (hopefully) find factors\n",
    "Shor's will find the correct factors with probability of at least one half, so if it doesn't work first time, try again!"
   ]
  },
  {
   "cell_type": "code",
   "execution_count": 1264,
   "metadata": {},
   "outputs": [
    {
     "name": "stdout",
     "output_type": "stream",
     "text": [
      "Shor's factor candidate #1: 547\n",
      "Shor's factor candidate #2: 563\n",
      "\n",
      "Actual factors: 547 307961\n",
      "\n",
      "Brute force decrypted message: Hi\n"
     ]
    }
   ],
   "source": [
    "factor_1 = gcd(pow(a, r//2) + 1, N)\n",
    "print(\"Shor's factor candidate #1:\", factor_1)\n",
    "factor_2 = gcd(pow(a, r//2) - 1, N)\n",
    "print(\"Shor's factor candidate #2:\", factor_2)\n",
    "\n",
    "print()\n",
    "print(\"Actual factors:\", p1, p2)\n",
    "\n",
    "# Calculate second prime by dividing modulus\n",
    "p2 = N // factor_1\n",
    "\n",
    "# Recalculate phiN and decryption exponent\n",
    "phiN = (factor_1 - 1) * (p2 - 1)\n",
    "d = mod_inverse(e, phiN)\n",
    "\n",
    "print()\n",
    "print(\"Brute force decrypted message:\", int_to_string(decrypt(encrypted, (d, N))))"
   ]
  },
  {
   "cell_type": "code",
   "execution_count": null,
   "metadata": {},
   "outputs": [],
   "source": []
  }
 ],
 "metadata": {
  "kernelspec": {
   "display_name": "Python 3",
   "language": "python",
   "name": "python3"
  },
  "language_info": {
   "codemirror_mode": {
    "name": "ipython",
    "version": 3
   },
   "file_extension": ".py",
   "mimetype": "text/x-python",
   "name": "python",
   "nbconvert_exporter": "python",
   "pygments_lexer": "ipython3",
   "version": "3.8.2"
  }
 },
 "nbformat": 4,
 "nbformat_minor": 4
}

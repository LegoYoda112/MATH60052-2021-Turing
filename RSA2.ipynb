{
 "cells": [
  {
   "cell_type": "code",
   "execution_count": 570,
   "metadata": {},
   "outputs": [],
   "source": [
    "from math import gcd, sqrt\n",
    "from sympy import mod_inverse\n",
    "\n",
    "import ipywidgets as widgets\n",
    "\n",
    "import time\n",
    "\n",
    "# https://www.cae.tntech.edu/~mmahmoud/teaching_files/grad/ECE6900/S21/slides/RSA.pdf"
   ]
  },
  {
   "cell_type": "code",
   "execution_count": 579,
   "metadata": {},
   "outputs": [
    {
     "name": "stdout",
     "output_type": "stream",
     "text": [
      "N = 27560479296627058087\n",
      "phi(N) = 27560479285972820880\n",
      "done\n",
      "d = 26504100080846499473\n",
      "Public key: (65537, 27560479296627058087)\n",
      "Private key: (26504100080846499473, 27560479296627058087)\n"
     ]
    }
   ],
   "source": [
    "# Step 1: pick two primes\n",
    "# Primes\n",
    "# Claculate using https://bigprimes.org/\n",
    "p1 = 4422843577\n",
    "p2 = 6231393631\n",
    "\n",
    "# Step 2: calculate the modulus\n",
    "# Modulus\n",
    "N = p1 * p2\n",
    "print(\"N =\", N)\n",
    "\n",
    "# Step 3: calculate the phi function\n",
    "# Phi function\n",
    "phiN = (p1 - 1) * (p2 - 1)\n",
    "print(\"phi(N) =\", phiN)\n",
    "\n",
    "\n",
    "# Step 4: calculate e - the encryption exponent\n",
    "# e must be between 1 and phi(N)\n",
    "# e must be coprime with N and phi(N)\n",
    "\n",
    "# Run through 2 and phi(N) to find a coprime\n",
    "# TODO: Optimize\n",
    "e = 0\n",
    "for candidate in range(2, phiN + 1):\n",
    "    if(gcd(candidate, phiN) == 1):\n",
    "        e = candidate\n",
    "        print(\"done\")\n",
    "        break\n",
    "# print(\"e =\", e)\n",
    "e = 65537\n",
    "\n",
    "# Step 5: choose d - the decription exponent\n",
    "# de (mod phi(N)) = 1\n",
    "\n",
    "d = mod_inverse(e, phiN)\n",
    "        \n",
    "print(\"d =\", d)\n",
    "\n",
    "public_key = (e, N)\n",
    "print(\"Public key:\", public_key)\n",
    "private_key = (d, N)\n",
    "print(\"Private key:\", private_key)"
   ]
  },
  {
   "cell_type": "code",
   "execution_count": 471,
   "metadata": {},
   "outputs": [
    {
     "data": {
      "text/plain": [
       "103"
      ]
     },
     "execution_count": 471,
     "metadata": {},
     "output_type": "execute_result"
    }
   ],
   "source": []
  },
  {
   "cell_type": "code",
   "execution_count": 533,
   "metadata": {},
   "outputs": [],
   "source": [
    "def gcdExtended(a, b):\n",
    "    \n",
    "    if a == 0 :\n",
    "        return b, 0, 1\n",
    "    \n",
    "    gcd, x1, y1 = gcdExtended(b%a, a)\n",
    "    \n",
    "    x = y1 - (b//a) * x1\n",
    "    y = x1\n",
    "    \n",
    "    return gcd, x, y\n",
    "\n",
    "def mod_inverse(a, mod):\n",
    "    factor, x, y = gcdExtended(a, mod)\n",
    "    if(x < 0):\n",
    "        return mod + x\n",
    "    else:\n",
    "        return x"
   ]
  },
  {
   "cell_type": "code",
   "execution_count": 534,
   "metadata": {},
   "outputs": [],
   "source": [
    "def encrypt(message, public_key):\n",
    "    encrypted_message = pow(message, public_key[0], public_key[1])\n",
    "    return encrypted_message\n",
    "\n",
    "def decrypt(encrypted_message, private_key):\n",
    "    decrypted_message = pow(encrypted_message, private_key[0], private_key[1])\n",
    "    return decrypted_message\n",
    "\n",
    "def string_to_int(message):\n",
    "    number = \"\"\n",
    "    for char in message:\n",
    "        ordinal = ord(char) - 30\n",
    "        if ordinal < 10:\n",
    "            ordinal = \"0\" + str(ordinal)\n",
    "        else:\n",
    "            ordinal = str(ordinal)\n",
    "        number += ordinal\n",
    "        \n",
    "    integer = int(number)\n",
    "    return integer\n",
    "    \n",
    "def int_to_string(integer):\n",
    "    str_int = str(integer)\n",
    "    string = \"\"\n",
    "    for i in range(0, int(len(str_int) / 2)):\n",
    "        char_code = int(str_int[2 * i] + str_int[2 * i+1])\n",
    "        string += chr(char_code + 30)\n",
    "    return string"
   ]
  },
  {
   "cell_type": "code",
   "execution_count": 511,
   "metadata": {},
   "outputs": [
    {
     "data": {
      "application/vnd.jupyter.widget-view+json": {
       "model_id": "f250d91f8576434f9b381f8675348357",
       "version_major": 2,
       "version_minor": 0
      },
      "text/plain": [
       "Text(value='', description='Message')"
      ]
     },
     "metadata": {},
     "output_type": "display_data"
    },
    {
     "name": "stdout",
     "output_type": "stream",
     "text": [
      "Not enough digits in the modulus to encrypt message\n",
      "Not enough digits in the modulus to encrypt message\n",
      "Not enough digits in the modulus to encrypt message\n",
      "Not enough digits in the modulus to encrypt message\n"
     ]
    }
   ],
   "source": [
    "message_input = widgets.Text(description='Message')\n",
    "display(message_input)\n",
    "\n",
    "def callback(change):\n",
    "    message = change[\"new\"]\n",
    "    if(len(str(p1)) - 1 < len(str(message))):\n",
    "        print(\"Not enough digits in the modulus to encrypt message\")\n",
    "\n",
    "message_input.observe(callback, names = \"value\")"
   ]
  },
  {
   "cell_type": "code",
   "execution_count": 578,
   "metadata": {},
   "outputs": [
    {
     "name": "stdout",
     "output_type": "stream",
     "text": [
      "Original: 8671\n",
      "Encrypted: 471657631\n",
      "Decrypted: 8671\n"
     ]
    }
   ],
   "source": [
    "message = string_to_int(message_input.value)\n",
    "\n",
    "print(\"Original:\", message)\n",
    "encrypted = encrypt(message, public_key)\n",
    "print(\"Encrypted:\", encrypted)\n",
    "decrypted = decrypt(encrypted, private_key)\n",
    "print(\"Decrypted:\", decrypted)"
   ]
  },
  {
   "cell_type": "code",
   "execution_count": 580,
   "metadata": {},
   "outputs": [
    {
     "name": "stdout",
     "output_type": "stream",
     "text": [
      "4422843577\n",
      "Brute force factoring took 1451.2688 seconds\n"
     ]
    }
   ],
   "source": [
    "start = time.perf_counter()\n",
    "\n",
    "# brute force factoring\n",
    "for i in range(2, N//2):\n",
    "    if(N % i == 0):\n",
    "        print(i)\n",
    "        break\n",
    "        \n",
    "end = time.perf_counter()\n",
    "\n",
    "print(\"Brute force factoring took\", round(end - start, 4), \"seconds\")"
   ]
  },
  {
   "cell_type": "code",
   "execution_count": 564,
   "metadata": {},
   "outputs": [
    {
     "data": {
      "text/plain": [
       "3"
      ]
     },
     "execution_count": 564,
     "metadata": {},
     "output_type": "execute_result"
    }
   ],
   "source": []
  }
 ],
 "metadata": {
  "kernelspec": {
   "display_name": "Python 3",
   "language": "python",
   "name": "python3"
  },
  "language_info": {
   "codemirror_mode": {
    "name": "ipython",
    "version": 3
   },
   "file_extension": ".py",
   "mimetype": "text/x-python",
   "name": "python",
   "nbconvert_exporter": "python",
   "pygments_lexer": "ipython3",
   "version": "3.8.2"
  }
 },
 "nbformat": 4,
 "nbformat_minor": 4
}
